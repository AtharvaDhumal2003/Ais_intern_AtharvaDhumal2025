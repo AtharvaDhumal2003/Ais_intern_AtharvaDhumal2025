{
 "cells": [
  {
   "cell_type": "markdown",
   "metadata": {},
   "source": [
    "# #Array operations"
   ]
  },
  {
   "cell_type": "code",
   "execution_count": 3,
   "metadata": {},
   "outputs": [
    {
     "name": "stdout",
     "output_type": "stream",
     "text": [
      "[10  6  8 10]\n",
      "7\n"
     ]
    }
   ],
   "source": [
    "#Addition\n",
    "import numpy as np\n",
    "\n",
    "arr1=np.array([1,2,3,4])\n",
    "arr2=np.array([9,4,5,6])\n",
    "\n",
    "add=arr1+arr2\n",
    "print(add)\n",
    "\n",
    "add2=arr1[2]+arr2[1]\n",
    "print(add2)"
   ]
  },
  {
   "cell_type": "code",
   "execution_count": 5,
   "metadata": {},
   "outputs": [
    {
     "name": "stdout",
     "output_type": "stream",
     "text": [
      "[6 4 2 4]\n"
     ]
    }
   ],
   "source": [
    "#Substraction\n",
    "import numpy as np\n",
    "\n",
    "arr1=np.array([10,9,8,7])\n",
    "arr2=np.array([4,5,6,3])\n",
    "\n",
    "sub=arr1-arr2\n",
    "print(sub)"
   ]
  },
  {
   "cell_type": "code",
   "execution_count": 7,
   "metadata": {},
   "outputs": [
    {
     "name": "stdout",
     "output_type": "stream",
     "text": [
      "[ 8 35 24  9]\n"
     ]
    }
   ],
   "source": [
    "#Multiplication\n",
    "import numpy as np\n",
    "\n",
    "arr1=np.array([2,7,4,3])\n",
    "arr2=np.array([4,5,6,3])\n",
    "\n",
    "mult=arr1*arr2\n",
    "print(mult)"
   ]
  },
  {
   "cell_type": "code",
   "execution_count": 8,
   "metadata": {},
   "outputs": [
    {
     "name": "stdout",
     "output_type": "stream",
     "text": [
      "[2. 2. 2. 2.]\n"
     ]
    }
   ],
   "source": [
    "#Division\n",
    "import numpy as np\n",
    "\n",
    "arr1=np.array([10,8,6,4])\n",
    "arr2=np.array([5,4,3,2])\n",
    "\n",
    "Div=arr1/arr2\n",
    "print(Div)\n"
   ]
  },
  {
   "cell_type": "code",
   "execution_count": 13,
   "metadata": {},
   "outputs": [
    {
     "name": "stdout",
     "output_type": "stream",
     "text": [
      "[2. 3. 4. 5.]\n",
      "[0. 1. 2. 3.]\n",
      "[[  1  16  90 112]\n",
      " [  2   6  12  20]]\n",
      "[[ 1.          4.         10.          7.        ]\n",
      " [ 2.          1.5         1.33333333  1.25      ]]\n"
     ]
    }
   ],
   "source": [
    "#Broadcasting\n",
    "#Broadcasting simplifies mathematical operations on arrays with different shapes.\n",
    "#It enables NumPy to efficiently apply operations element-wise \n",
    "#without explicitly copying or reshaping data. \n",
    "import numpy as np\n",
    "\n",
    "arr1=np.array([1,2,3,4])\n",
    "arr2=np.ones(4)\n",
    "arr3=np.array([[1,8,30,28],[2,3,4,5]])\n",
    "\n",
    "add=arr1+arr2\n",
    "sub=arr1-arr2\n",
    "Mult=arr1*arr3\n",
    "div=arr3/arr1\n",
    "\n",
    "print(add)\n",
    "print(sub)\n",
    "print(Mult)\n",
    "print(div)"
   ]
  },
  {
   "cell_type": "code",
   "execution_count": 16,
   "metadata": {},
   "outputs": [
    {
     "name": "stdout",
     "output_type": "stream",
     "text": [
      "16.0\n",
      "[ 2. 16.  8.]\n"
     ]
    }
   ],
   "source": [
    "#Element wise operation\n",
    "import numpy as np\n",
    "\n",
    "arr1=np.array([4,256,64])\n",
    "print(np.sqrt(arr1[1]))#np.sqrt() function\n",
    "print(np.sqrt(arr1))\n"
   ]
  },
  {
   "cell_type": "code",
   "execution_count": 20,
   "metadata": {},
   "outputs": [
    {
     "name": "stdout",
     "output_type": "stream",
     "text": [
      "[-0.98803162  0.         -0.30481062  0.89399666]\n",
      "[ 0.15425145  1.         -0.95241298 -0.44807362]\n",
      "[-6.4053312   0.          0.32004039 -1.99520041]\n"
     ]
    }
   ],
   "source": [
    "import numpy as np\n",
    "\n",
    "arr=np.array([30,0,60,90])\n",
    "print(np.sin(arr))#np.sin() function\n",
    "print(np.cos(arr))"
   ]
  },
  {
   "cell_type": "code",
   "execution_count": 21,
   "metadata": {},
   "outputs": [
    {
     "name": "stdout",
     "output_type": "stream",
     "text": [
      "[ 2.71828183  7.3890561  20.08553692 54.59815003]\n"
     ]
    }
   ],
   "source": [
    "import numpy as np\n",
    "arr=np.array([1,2,3,4])\n",
    "print(np.exp(arr))#np.exe() function"
   ]
  },
  {
   "cell_type": "code",
   "execution_count": null,
   "metadata": {},
   "outputs": [],
   "source": []
  }
 ],
 "metadata": {
  "kernelspec": {
   "display_name": "Python 3",
   "language": "python",
   "name": "python3"
  },
  "language_info": {
   "codemirror_mode": {
    "name": "ipython",
    "version": 3
   },
   "file_extension": ".py",
   "mimetype": "text/x-python",
   "name": "python",
   "nbconvert_exporter": "python",
   "pygments_lexer": "ipython3",
   "version": "3.7.4"
  }
 },
 "nbformat": 4,
 "nbformat_minor": 2
}
