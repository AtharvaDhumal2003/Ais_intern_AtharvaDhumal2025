{
 "cells": [
  {
   "cell_type": "markdown",
   "metadata": {},
   "source": [
    "# #Dictionary in python\n",
    "*Dictionary is used to store data values in key:value pairs.\n",
    "*Dictionary items are ordered.\n",
    "*Dictionary is changable and duplicates are not allowed."
   ]
  },
  {
   "cell_type": "code",
   "execution_count": 21,
   "metadata": {},
   "outputs": [
    {
     "name": "stdout",
     "output_type": "stream",
     "text": [
      "lion\n",
      "dict_keys(['animal', 'life', 'weight'])\n",
      "dict_values(['lion', 10, 150])\n",
      "dict_items([('animal', 'lion'), ('life', 10), ('weight', 150)])\n",
      "{'animal': 'lion', 'life': 10, 'weight': 150, 'type': 'carnivorous'}\n",
      "{'animal': 'lion', 'life': 10, 'type': 'carnivorous'}\n"
     ]
    }
   ],
   "source": [
    "thisdict={\n",
    "    \"animal\":\"lion\",\n",
    "    \"life\":10,\n",
    "    \"weight\":150\n",
    "}\n",
    "\n",
    "x=thisdict.get(\"animal\")#accessing element using get() method\n",
    "print(x)\n",
    "\n",
    "y=thisdict.keys()#shows keys in set\n",
    "print(y)\n",
    "\n",
    "w=thisdict.values()#shows value  in set\n",
    "print(w)\n",
    "\n",
    "q=thisdict.items()#shows items in set\n",
    "print(q)\n",
    "\n",
    "thisdict.update({\"type\":\"carnivorous\"})#updating dictionary\n",
    "print(thisdict)\n",
    "\n",
    "thisdict.pop(\"weight\")#removes item in dict\n",
    "print(thisdict)"
   ]
  },
  {
   "cell_type": "code",
   "execution_count": null,
   "metadata": {},
   "outputs": [],
   "source": []
  }
 ],
 "metadata": {
  "kernelspec": {
   "display_name": "Python 3",
   "language": "python",
   "name": "python3"
  },
  "language_info": {
   "codemirror_mode": {
    "name": "ipython",
    "version": 3
   },
   "file_extension": ".py",
   "mimetype": "text/x-python",
   "name": "python",
   "nbconvert_exporter": "python",
   "pygments_lexer": "ipython3",
   "version": "3.7.4"
  }
 },
 "nbformat": 4,
 "nbformat_minor": 2
}
