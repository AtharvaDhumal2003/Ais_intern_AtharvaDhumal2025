{
 "cells": [
  {
   "cell_type": "markdown",
   "metadata": {},
   "source": [
    "# Merging and Joining "
   ]
  },
  {
   "cell_type": "markdown",
   "metadata": {},
   "source": [
    "## merge() "
   ]
  },
  {
   "cell_type": "code",
   "execution_count": 5,
   "metadata": {},
   "outputs": [
    {
     "name": "stdout",
     "output_type": "stream",
     "text": [
      "   Name  Age  Mark\n",
      "0   Ath   22    98\n",
      "1   Adi   23    43\n",
      "2  Nish   21    23\n"
     ]
    }
   ],
   "source": [
    "import pandas as pd\n",
    "\n",
    "Data1={\n",
    "    \n",
    "    'Name':['Ath','Adi','Nish'],\n",
    "    'Age':(22,23,21)\n",
    "}\n",
    "\n",
    "Data2={\n",
    "    'Name':['Ath','Adi','Nish'],\n",
    "    'Mark':[98,43,23]\n",
    "}\n",
    "\n",
    "df1 = pd.DataFrame(Data1)\n",
    "df2 = pd.DataFrame(Data2)\n",
    "\n",
    "merge=pd.merge(df1,df2,on='Name')\n",
    "print(merge)"
   ]
  },
  {
   "cell_type": "markdown",
   "metadata": {},
   "source": [
    "## Concat() "
   ]
  },
  {
   "cell_type": "code",
   "execution_count": 7,
   "metadata": {},
   "outputs": [
    {
     "data": {
      "text/html": [
       "<div>\n",
       "<style scoped>\n",
       "    .dataframe tbody tr th:only-of-type {\n",
       "        vertical-align: middle;\n",
       "    }\n",
       "\n",
       "    .dataframe tbody tr th {\n",
       "        vertical-align: top;\n",
       "    }\n",
       "\n",
       "    .dataframe thead th {\n",
       "        text-align: right;\n",
       "    }\n",
       "</style>\n",
       "<table border=\"1\" class=\"dataframe\">\n",
       "  <thead>\n",
       "    <tr style=\"text-align: right;\">\n",
       "      <th></th>\n",
       "      <th>Age</th>\n",
       "      <th>Mark</th>\n",
       "      <th>Name</th>\n",
       "    </tr>\n",
       "  </thead>\n",
       "  <tbody>\n",
       "    <tr>\n",
       "      <td>0</td>\n",
       "      <td>22.0</td>\n",
       "      <td>NaN</td>\n",
       "      <td>Ath</td>\n",
       "    </tr>\n",
       "    <tr>\n",
       "      <td>1</td>\n",
       "      <td>23.0</td>\n",
       "      <td>NaN</td>\n",
       "      <td>Adi</td>\n",
       "    </tr>\n",
       "    <tr>\n",
       "      <td>2</td>\n",
       "      <td>21.0</td>\n",
       "      <td>NaN</td>\n",
       "      <td>Nish</td>\n",
       "    </tr>\n",
       "    <tr>\n",
       "      <td>0</td>\n",
       "      <td>NaN</td>\n",
       "      <td>98.0</td>\n",
       "      <td>Ath</td>\n",
       "    </tr>\n",
       "    <tr>\n",
       "      <td>1</td>\n",
       "      <td>NaN</td>\n",
       "      <td>43.0</td>\n",
       "      <td>Adi</td>\n",
       "    </tr>\n",
       "    <tr>\n",
       "      <td>2</td>\n",
       "      <td>NaN</td>\n",
       "      <td>23.0</td>\n",
       "      <td>Nish</td>\n",
       "    </tr>\n",
       "  </tbody>\n",
       "</table>\n",
       "</div>"
      ],
      "text/plain": [
       "    Age  Mark  Name\n",
       "0  22.0   NaN   Ath\n",
       "1  23.0   NaN   Adi\n",
       "2  21.0   NaN  Nish\n",
       "0   NaN  98.0   Ath\n",
       "1   NaN  43.0   Adi\n",
       "2   NaN  23.0  Nish"
      ]
     },
     "execution_count": 7,
     "metadata": {},
     "output_type": "execute_result"
    }
   ],
   "source": [
    "import pandas as pd\n",
    "\n",
    "Data1={\n",
    "    \n",
    "    'Name':['Ath','Adi','Nish'],\n",
    "    'Age':(22,23,21)\n",
    "}\n",
    "\n",
    "Data2={\n",
    "    'Name':['Ath','Adi','Nish'],\n",
    "    'Mark':[98,43,23]\n",
    "}\n",
    "\n",
    "df1 = pd.DataFrame(Data1)\n",
    "df2 = pd.DataFrame(Data2)\n",
    "\n",
    "pd.concat([df1,df2],sort=True)"
   ]
  },
  {
   "cell_type": "code",
   "execution_count": null,
   "metadata": {},
   "outputs": [],
   "source": []
  }
 ],
 "metadata": {
  "kernelspec": {
   "display_name": "Python 3",
   "language": "python",
   "name": "python3"
  },
  "language_info": {
   "codemirror_mode": {
    "name": "ipython",
    "version": 3
   },
   "file_extension": ".py",
   "mimetype": "text/x-python",
   "name": "python",
   "nbconvert_exporter": "python",
   "pygments_lexer": "ipython3",
   "version": "3.7.4"
  }
 },
 "nbformat": 4,
 "nbformat_minor": 2
}
