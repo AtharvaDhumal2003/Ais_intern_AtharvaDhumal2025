{
 "cells": [
  {
   "cell_type": "markdown",
   "metadata": {},
   "source": [
    "# #For loop"
   ]
  },
  {
   "cell_type": "markdown",
   "metadata": {},
   "source": [
    "# 1)print odd value between 20 and 80, without using if. Using for loop only."
   ]
  },
  {
   "cell_type": "code",
   "execution_count": 27,
   "metadata": {},
   "outputs": [
    {
     "name": "stdout",
     "output_type": "stream",
     "text": [
      "[21, 23, 25, 27, 29, 31, 33, 35, 37, 39, 41, 43, 45, 47, 49, 51, 53, 55, 57, 59, 61, 63, 65, 67, 69, 71, 73, 75, 77, 79]\n"
     ]
    }
   ],
   "source": [
    "list2=[]\n",
    "for i in range(21,81,2):\n",
    "    list2.append(i)\n",
    "print(list2)"
   ]
  },
  {
   "cell_type": "markdown",
   "metadata": {},
   "source": [
    "# 2) creat a list of 1 to 20 number using for loop [1,2,3..20]"
   ]
  },
  {
   "cell_type": "code",
   "execution_count": 2,
   "metadata": {},
   "outputs": [
    {
     "name": "stdout",
     "output_type": "stream",
     "text": [
      "[1, 2, 3, 4, 5, 6, 7, 8, 9, 10, 11, 12, 13, 14, 15, 16, 17, 18, 19, 20]\n"
     ]
    }
   ],
   "source": [
    "list1=[]\n",
    "for i in range(1,21):\n",
    "    list1.append(i)\n",
    "print(list1)    \n",
    "    "
   ]
  },
  {
   "cell_type": "markdown",
   "metadata": {},
   "source": [
    "# 3)create a  list of 20 to 1 value using  for loop (dont Use Reverse)\n",
    "[20,19,18,...3,2,1]"
   ]
  },
  {
   "cell_type": "code",
   "execution_count": 3,
   "metadata": {},
   "outputs": [
    {
     "name": "stdout",
     "output_type": "stream",
     "text": [
      "[20, 19, 18, 17, 16, 15, 14, 13, 12, 11, 10, 9, 8, 7, 6, 5, 4, 3, 2, 1]\n"
     ]
    }
   ],
   "source": [
    "list1=[]\n",
    "for i in range(20,0,-1):\n",
    "    list1.append(i)\n",
    "print(list1)    "
   ]
  },
  {
   "cell_type": "markdown",
   "metadata": {},
   "source": [
    "# 4)take Cube of odd values between 20 to 40"
   ]
  },
  {
   "cell_type": "code",
   "execution_count": 33,
   "metadata": {},
   "outputs": [
    {
     "name": "stdout",
     "output_type": "stream",
     "text": [
      "value is: 21 cube is: 9261\n",
      "value is: 23 cube is: 12167\n",
      "value is: 25 cube is: 15625\n",
      "value is: 27 cube is: 19683\n",
      "value is: 29 cube is: 24389\n",
      "value is: 31 cube is: 29791\n",
      "value is: 33 cube is: 35937\n",
      "value is: 35 cube is: 42875\n",
      "value is: 37 cube is: 50653\n",
      "value is: 39 cube is: 59319\n"
     ]
    }
   ],
   "source": [
    "for i in range(21,41,2):\n",
    "        print(\"value is:\",i , \"cube is:\",i*i*i)\n"
   ]
  },
  {
   "cell_type": "code",
   "execution_count": null,
   "metadata": {},
   "outputs": [],
   "source": [
    "take 5 freinds name in list name=[a,b,c,d,e]\n",
    "take corresponding ages in second list age = [20,21,23,25,24]\n",
    "expected ans:\n",
    "    my name is a , my age is 20\n",
    "    my name is b, my age is 21"
   ]
  },
  {
   "cell_type": "code",
   "execution_count": 39,
   "metadata": {},
   "outputs": [
    {
     "name": "stdout",
     "output_type": "stream",
     "text": [
      "my name is A , my age is 20\n",
      "my name is B , my age is 21\n",
      "my name is C , my age is 22\n",
      "my name is D , my age is 23\n"
     ]
    }
   ],
   "source": [
    "name=[\"A\",\"B\",\"C\",\"D\"]\n",
    "age=[20,21,22,23]\n",
    "\n",
    "for x in range(len(name)):\n",
    "               print(f\"my name is {name[x]} , my age is {age[x]}\")\n",
    "               \n",
    "    \n",
    "\n",
    "   \n",
    "\n"
   ]
  },
  {
   "cell_type": "code",
   "execution_count": null,
   "metadata": {},
   "outputs": [],
   "source": []
  }
 ],
 "metadata": {
  "kernelspec": {
   "display_name": "Python 3",
   "language": "python",
   "name": "python3"
  },
  "language_info": {
   "codemirror_mode": {
    "name": "ipython",
    "version": 3
   },
   "file_extension": ".py",
   "mimetype": "text/x-python",
   "name": "python",
   "nbconvert_exporter": "python",
   "pygments_lexer": "ipython3",
   "version": "3.7.4"
  }
 },
 "nbformat": 4,
 "nbformat_minor": 2
}
