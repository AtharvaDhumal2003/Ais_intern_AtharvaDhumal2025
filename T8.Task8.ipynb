{
 "cells": [
  {
   "cell_type": "markdown",
   "metadata": {},
   "source": [
    "## pre processing quartile"
   ]
  },
  {
   "cell_type": "markdown",
   "metadata": {},
   "source": [
    "###  Quartiles are a kind of quantile that divides the number of data points into four parts, or quarters.\n",
    "\n",
    "* The first quartile (Q1) , is defined as the middle number between the smallest number and the median of the data set,\n",
    "*  The second quartile (Q2) is the median of the given data set.\n",
    "* The third quartile (Q3) is the middle number between the median and the largest value of the data set"
   ]
  },
  {
   "cell_type": "markdown",
   "metadata": {},
   "source": [
    "## Range:\n",
    "\n",
    "* It is the difference between the largest value and the smallest value in the given data set.\n",
    "*  The interquartile range (IQR) is indeed defined as the difference between the third \n",
    "   quartile (Q3) and the first quartile (Q1) \n",
    "*  Mathematically, it’s represented as:\n",
    "   IQR= Q 3− Q 1\n",
    "*  Where , Q 3 is the third quartile and Q 1 is the first quartile.   "
   ]
  },
  {
   "cell_type": "markdown",
   "metadata": {},
   "source": [
    "###  Quartile Deviation\n",
    "* The quartile deviation is a measure of statistical dispersion or spread within a dataset. It’s                        defined as half of the difference between the third quartile (Q3) and the first quartile (Q1).         Mathematically, it’s represented as:\n",
    "\n",
    "* Quartile Deviation= Q3−Q1/2"
   ]
  },
  {
   "cell_type": "code",
   "execution_count": 2,
   "metadata": {},
   "outputs": [
    {
     "name": "stdout",
     "output_type": "stream",
     "text": [
      "Interquartile Range (IQR): 4.5\n",
      "Quartile Deviation: 2.25\n"
     ]
    }
   ],
   "source": [
    "import numpy as np\n",
    "\n",
    "# Sample dataset\n",
    "data = np.array([1, 2, 3, 4, 5, 6, 7, 8, 9, 10])\n",
    "\n",
    "# Calculate Interquartile Range (IQR) using numpy\n",
    "q1 = np.percentile(data, 25)\n",
    "q3 = np.percentile(data, 75)\n",
    "iqr = q3 - q1\n",
    "\n",
    "# Calculate Quartile Deviation\n",
    "quartile_deviation = (q3 - q1) / 2\n",
    "\n",
    "print(\"Interquartile Range (IQR):\", iqr)\n",
    "print(\"Quartile Deviation:\", quartile_deviation)"
   ]
  },
  {
   "cell_type": "markdown",
   "metadata": {},
   "source": [
    "## Tukeys box plot"
   ]
  },
  {
   "cell_type": "code",
   "execution_count": 18,
   "metadata": {},
   "outputs": [
    {
     "name": "stdout",
     "output_type": "stream",
     "text": [
      "Interquartile Range (IQR): 4.5\n",
      "Quartile Deviation: 2.25\n"
     ]
    },
    {
     "data": {
      "image/png": "[encoded data removed]",
      "text/plain": [
       "<Figure size 432x288 with 1 Axes>"
      ]
     },
     "metadata": {
      "needs_background": "light"
     },
     "output_type": "display_data"
    }
   ],
   "source": [
    "import matplotlib.pyplot as plt\n",
    "import numpy as np\n",
    "\n",
    "# Sample dataset\n",
    "data = np.array([1, 2, 3, 4, 5, 6, 7, 8, 9, 10])\n",
    "\n",
    "# Calculate Interquartile Range (IQR) using numpy\n",
    "q1 = np.percentile(data, 25)\n",
    "q3 = np.percentile(data, 75)\n",
    "iqr = q3 - q1\n",
    "\n",
    "# Calculate Quartile Deviation\n",
    "quartile_deviation = (q3 - q1) / 2\n",
    "\n",
    "print(\"Interquartile Range (IQR):\", iqr)\n",
    "print(\"Quartile Deviation:\", quartile_deviation)\n",
    "\n",
    "plt.boxplot(data)\n",
    "plt.boxplot(iqr)\n",
    "plt.boxplot(quartile_deviation)\n",
    "\n",
    "\n",
    "plt.title(\"tukeys box plot\")\n",
    "plt.ylabel(\"values\")\n",
    "\n",
    "plt.show()"
   ]
  },
  {
   "cell_type": "markdown",
   "metadata": {},
   "source": [
    "## whisker plot"
   ]
  },
  {
   "cell_type": "code",
   "execution_count": 20,
   "metadata": {},
   "outputs": [
    {
     "name": "stdout",
     "output_type": "stream",
     "text": [
      "Interquartile Range (IQR): 4.5\n",
      "Quartile Deviation: 2.25\n"
     ]
    },
    {
     "data": {
      "image/png": "[encoded data removed]",
      "text/plain": [
       "<Figure size 432x288 with 1 Axes>"
      ]
     },
     "metadata": {
      "needs_background": "light"
     },
     "output_type": "display_data"
    }
   ],
   "source": [
    "import matplotlib.pyplot as plt\n",
    "import numpy as np\n",
    "\n",
    "data = np.array([1, 2, 3, 4, 5, 6, 7, 8, 9, 10])\n",
    "\n",
    "# Calculate Interquartile Range (IQR) using numpy\n",
    "q1 = np.percentile(data, 25)\n",
    "q3 = np.percentile(data, 75)\n",
    "iqr = q3 - q1\n",
    "\n",
    "# Calculate Quartile Deviation\n",
    "quartile_deviation = (q3 - q1) / 2\n",
    "\n",
    "print(\"Interquartile Range (IQR):\", iqr)\n",
    "print(\"Quartile Deviation:\", quartile_deviation)\n",
    "\n",
    "plt.boxplot(data, vert=False)\n",
    "plt.boxplot(iqr, vert=False)\n",
    "plt.boxplot(quartile_deviation,  vert=False)\n",
    "\n",
    "\n",
    "plt.title(\"Whisker box plot\")\n",
    "plt.ylabel(\"values\")\n",
    "\n",
    "plt.show()"
   ]
  },
  {
   "cell_type": "markdown",
   "metadata": {},
   "source": [
    "## Z score(outlier) standardization \n",
    "* Z score is an important concept in statistics. Z score is also called standard score. This score helps to understand if a data value is greater or smaller than mean and how far away it is from the mean. More specifically, Z score tells how many standard deviations away a data point is from the mean.\n",
    "\n",
    "    Z score = (x -mean) / std. deviation\n",
    "* If the z score of a data point is more than 3, it indicates that the data point is quite different from the other data points. Such a data point can be an outlier.\n",
    "\n",
    "*  Z score helps us identify outliers in the data"
   ]
  },
  {
   "cell_type": "code",
   "execution_count": 22,
   "metadata": {},
   "outputs": [
    {
     "name": "stdout",
     "output_type": "stream",
     "text": [
      "mean of the dataset is 2.6666666666666665\n",
      "std. deviation is 3.3598941782277745\n",
      "outlier in dataset is [15]\n"
     ]
    }
   ],
   "source": [
    "import numpy as np\n",
    "\n",
    "data=([1, 2, 2, 2, 3, 1, 1, 15, 2, 2, 2, 3, 1, 1, 2])\n",
    "mean = np.mean(data)\n",
    "std = np.std(data)\n",
    "print('mean of the dataset is', mean)\n",
    "print('std. deviation is', std)\n",
    "\n",
    "\n",
    "\n",
    "threshold = 3\n",
    "outlier = []\n",
    "for i in data:\n",
    "    z = (i-mean)/std\n",
    "    if z > threshold:\n",
    "        outlier.append(i)\n",
    "print('outlier in dataset is', outlier)"
   ]
  },
  {
   "cell_type": "markdown",
   "metadata": {},
   "source": [
    "##  Minmax scaler"
   ]
  },
  {
   "cell_type": "code",
   "execution_count": 6,
   "metadata": {},
   "outputs": [
    {
     "name": "stdout",
     "output_type": "stream",
     "text": [
      "[[1.         0.        ]\n",
      " [0.27272727 0.625     ]\n",
      " [0.         1.        ]\n",
      " [1.         0.75      ]]\n"
     ]
    }
   ],
   "source": [
    "# import module\n",
    "from sklearn.preprocessing import MinMaxScaler\n",
    " \n",
    "# create data\n",
    "data = [[11, 2], [3, 7], [0, 10], [11, 8]]\n",
    "\n",
    "# scale features\n",
    "scaler = MinMaxScaler()\n",
    "model=scaler.fit(data)\n",
    "scaled_data=model.transform(data)\n",
    " \n",
    "# print scaled features\n",
    "print(scaled_data)\n"
   ]
  },
  {
   "cell_type": "code",
   "execution_count": null,
   "metadata": {},
   "outputs": [],
   "source": []
  }
 ],
 "metadata": {
  "kernelspec": {
   "display_name": "Python 3",
   "language": "python",
   "name": "python3"
  },
  "language_info": {
   "codemirror_mode": {
    "name": "ipython",
    "version": 3
   },
   "file_extension": ".py",
   "mimetype": "text/x-python",
   "name": "python",
   "nbconvert_exporter": "python",
   "pygments_lexer": "ipython3",
   "version": "3.7.4"
  }
 },
 "nbformat": 4,
 "nbformat_minor": 2
}
