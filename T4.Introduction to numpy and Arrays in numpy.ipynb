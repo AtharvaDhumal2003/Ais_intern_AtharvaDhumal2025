{
 "cells": [
  {
   "cell_type": "markdown",
   "metadata": {},
   "source": [
    "# Introduction to numpy\n",
    "*NumPy is a Python library used for working with arrays.\n",
    "*NumPy was created in 2005 by Travis Oliphant. It is an open source project and you can use it freely.\n",
    "*NumPy stands for Numerical Python\n",
    "*NumPy is a Python library and is written partially in Python, but most of the parts that require fast computation are written in C or C++.\n",
    "*In Python we have lists that serve the purpose of arrays, but they are slow to process.\n",
    "*NumPy aims to provide an array object that is up to 50x faster than traditional Python lists.\n",
    "*NumPy arrays are stored at one continuous place in memory unlike lists, so processes can access and manipulate them very efficiently.\n",
    "*NumPy is commonly used within data science in order to work through numerical analyses and functions, such as creating and working with arrays, returning descriptive statistics, and a variety of machine learning models and mathematical formulas."
   ]
  },
  {
   "cell_type": "code",
   "execution_count": 2,
   "metadata": {
    "scrolled": true
   },
   "outputs": [
    {
     "name": "stdout",
     "output_type": "stream",
     "text": [
      "1.16.5\n"
     ]
    }
   ],
   "source": [
    "import numpy as np\n",
    "\n",
    "print(np.__version__)\n"
   ]
  },
  {
   "cell_type": "markdown",
   "metadata": {},
   "source": [
    "# # Arrays in numpy\n",
    "*NumPy is used to work with arrays. The array object in NumPy is called ndarray.\n",
    "*We can create a NumPy ndarray object by using the array() function.\n",
    "*To create an ndarray, we can pass a list, tuple or any array-like object into the array() method, and it will be converted into an ndarray.\n",
    "*0-D arrays, or Scalars, are the elements in an array. Each value in an array is a 0-D array.\n",
    "*An array that has 0-D arrays as its elements is called uni-dimensional or 1-D array.\n",
    "*An array that has 1-D arrays as its elements is called a 2-D array.\n",
    "*An array that has 2-D arrays (matrices) as its elements is called 3-D array.\n",
    "*NumPy Arrays provides the ndim attribute that returns an integer that tells us how many dimensions the array have.\n",
    "*An array can have any number of dimensions.\n",
    "*When the array is created, you can define the number of dimensions by using the ndmin argument"
   ]
  },
  {
   "cell_type": "code",
   "execution_count": 26,
   "metadata": {},
   "outputs": [
    {
     "name": "stdout",
     "output_type": "stream",
     "text": [
      "[1 2 3 4]\n",
      "[[1 2]\n",
      " [2 3]]\n"
     ]
    }
   ],
   "source": [
    "import numpy as np\n",
    "\n",
    "arr = np.array([1,2,3,4])\n",
    "print(arr)\n",
    "\n",
    "arr2=np.array([[1,2],[2,3]])\n",
    "print(arr2)"
   ]
  },
  {
   "cell_type": "code",
   "execution_count": 12,
   "metadata": {},
   "outputs": [
    {
     "name": "stdout",
     "output_type": "stream",
     "text": [
      "[0. 0. 0.]\n",
      "[[0. 0. 0. 0. 0.]\n",
      " [0. 0. 0. 0. 0.]\n",
      " [0. 0. 0. 0. 0.]]\n"
     ]
    }
   ],
   "source": [
    "#np.zeros()\n",
    "import numpy as np\n",
    "\n",
    "arr=np.zeros([3])#1-D zeros array\n",
    "print(arr)\n",
    "\n",
    "arr2=np.zeros([3,5])#2-D zeros array\n",
    "print(arr2)"
   ]
  },
  {
   "cell_type": "code",
   "execution_count": 15,
   "metadata": {},
   "outputs": [
    {
     "name": "stdout",
     "output_type": "stream",
     "text": [
      "[1. 1.]\n",
      "[[1. 1. 1.]\n",
      " [1. 1. 1.]\n",
      " [1. 1. 1.]]\n"
     ]
    }
   ],
   "source": [
    "#np.ones()\n",
    "import numpy as np\n",
    "\n",
    "arr=np.ones([2])\n",
    "print(arr)\n",
    "\n",
    "arr2=np.ones([3,3])\n",
    "print(arr2)"
   ]
  },
  {
   "cell_type": "code",
   "execution_count": 17,
   "metadata": {},
   "outputs": [
    {
     "name": "stdout",
     "output_type": "stream",
     "text": [
      "[1 2 3 4 5 6 7 8 9]\n"
     ]
    }
   ],
   "source": [
    "#numpy.arange() function creates an array of evenly spaced values within a given interval. \n",
    "#It is similar to Python’s built-in range() function but returns a NumPy array instead of a list.\n",
    "\n",
    "import numpy as np\n",
    "\n",
    "arr = np.arange(1,10)\n",
    "print(arr)"
   ]
  },
  {
   "cell_type": "code",
   "execution_count": 20,
   "metadata": {},
   "outputs": [
    {
     "name": "stdout",
     "output_type": "stream",
     "text": [
      "[0.         0.11111111 0.22222222 0.33333333 0.44444444 0.55555556\n",
      " 0.66666667 0.77777778 0.88888889 1.        ]\n"
     ]
    }
   ],
   "source": [
    "#linspace() function in NumPy returns an array of evenly spaced numbers over a specified range. \n",
    "import numpy as np\n",
    "\n",
    "arr=np.linspace(0,1,num=10)\n",
    "print(arr)\n"
   ]
  },
  {
   "cell_type": "markdown",
   "metadata": {},
   "source": [
    "# # Array Indexing and slicing"
   ]
  },
  {
   "cell_type": "code",
   "execution_count": 28,
   "metadata": {},
   "outputs": [
    {
     "name": "stdout",
     "output_type": "stream",
     "text": [
      "3\n",
      "2 3\n",
      "3\n"
     ]
    }
   ],
   "source": [
    "#Indexing\n",
    "import numpy as np\n",
    "\n",
    "arr=np.array([1,2,3,4])\n",
    "print(arr[2])\n",
    "\n",
    "arr2=np.array([[1,2,3], [3,4,5]])\n",
    "print(arr2[0,1], arr2[1,0])\n",
    "print(arr2[0,-1])#negative indexing\n"
   ]
  },
  {
   "cell_type": "code",
   "execution_count": 32,
   "metadata": {},
   "outputs": [
    {
     "name": "stdout",
     "output_type": "stream",
     "text": [
      "[1 2 3]\n",
      "[2 7]\n",
      "[[1 2 3]\n",
      " [6 7 8]]\n"
     ]
    }
   ],
   "source": [
    "#slicing\n",
    "import numpy as np\n",
    "\n",
    "arr=np.array([1,2,3,4,5])\n",
    "print(arr[0:3])\n",
    "\n",
    "arr2=np.array([[1,2,3,4,5], [6,7,8,9,10]])\n",
    "print(arr2[0:2,1])#From both elements, return index 2             \n",
    "print(arr2[0:2,0:3])"
   ]
  },
  {
   "cell_type": "code",
   "execution_count": null,
   "metadata": {},
   "outputs": [],
   "source": []
  }
 ],
 "metadata": {
  "kernelspec": {
   "display_name": "Python 3",
   "language": "python",
   "name": "python3"
  },
  "language_info": {
   "codemirror_mode": {
    "name": "ipython",
    "version": 3
   },
   "file_extension": ".py",
   "mimetype": "text/x-python",
   "name": "python",
   "nbconvert_exporter": "python",
   "pygments_lexer": "ipython3",
   "version": "3.7.4"
  }
 },
 "nbformat": 4,
 "nbformat_minor": 2
}
