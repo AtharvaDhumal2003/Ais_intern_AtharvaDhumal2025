{
 "cells": [
  {
   "cell_type": "markdown",
   "metadata": {},
   "source": [
    "# #Common python errors"
   ]
  },
  {
   "cell_type": "code",
   "execution_count": null,
   "metadata": {},
   "outputs": [],
   "source": [
    "#Identation error:-This error occurs when the python code is not properly intended.\n",
    "\n",
    "def\n",
    " check_number(a):\n",
    " if a>2:#there is not proper identation\n",
    "    \n",
    "def\n",
    " check_number(a):\n",
    "        if a>2:#this is write syntax"
   ]
  },
  {
   "cell_type": "code",
   "execution_count": null,
   "metadata": {},
   "outputs": [],
   "source": [
    "#Name error:-Name error occurs when we try to use function that not defined.\n",
    "\n",
    "Print(my_variable)#my_variable is not defined\n",
    "\n",
    "my_variable=10\n",
    "Print(my_variable)#here my variable is defined"
   ]
  },
  {
   "cell_type": "code",
   "execution_count": null,
   "metadata": {},
   "outputs": [],
   "source": [
    "#Value error:-value error occurs when we give inappropriate datatype to value.\n",
    "\n",
    "int(\"hello\")#this is error because integer gives string value\n",
    "\n",
    "number=int(1,2,3)#there is no value error"
   ]
  },
  {
   "cell_type": "code",
   "execution_count": null,
   "metadata": {},
   "outputs": [],
   "source": [
    "#Type error:-this error occurs when operations are  performed on different data type values\n",
    "\n",
    "sum=\"5\"+5#error string cannot be added to int\n",
    "\n",
    "sum=int(\"5\")+5#correct way"
   ]
  },
  {
   "cell_type": "code",
   "execution_count": null,
   "metadata": {},
   "outputs": [],
   "source": [
    "#Key error:-key error occurs when we try to access key that is not in the dictionary\n",
    "\n",
    "my_dict{\n",
    "    \"Name\":\"Adi\",\n",
    "    \"class\":\"TY\",\n",
    "     \"Age\":21\n",
    "    \n",
    "}\n",
    "\n",
    "X=my_dict.get(\"height\")#Accesin key that not exist in dictionary\n",
    "print(X)#this will give key error"
   ]
  },
  {
   "cell_type": "code",
   "execution_count": null,
   "metadata": {},
   "outputs": [],
   "source": [
    "#Index error:-occurs when we try to access out of range index\n",
    "\n",
    "List1=[1,2,3]\n",
    "print(list1[5])# out of range\n",
    "\n",
    "List1=[1,2,3]\n",
    "print(list1[3])"
   ]
  }
 ],
 "metadata": {
  "kernelspec": {
   "display_name": "Python 3",
   "language": "python",
   "name": "python3"
  },
  "language_info": {
   "codemirror_mode": {
    "name": "ipython",
    "version": 3
   },
   "file_extension": ".py",
   "mimetype": "text/x-python",
   "name": "python",
   "nbconvert_exporter": "python",
   "pygments_lexer": "ipython3",
   "version": "3.7.4"
  }
 },
 "nbformat": 4,
 "nbformat_minor": 2
}
