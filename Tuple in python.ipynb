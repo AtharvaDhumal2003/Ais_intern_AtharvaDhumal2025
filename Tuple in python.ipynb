{
 "cells": [
  {
   "cell_type": "markdown",
   "metadata": {},
   "source": [
    "# #Tuple in python\n",
    "*Tuple is built in datatype.\n",
    "*creates immutable sequence of values.\n",
    "*created in () brackets.\n",
    "*Tuple cannot be modified or updated.\n"
   ]
  },
  {
   "cell_type": "code",
   "execution_count": 7,
   "metadata": {},
   "outputs": [
    {
     "name": "stdout",
     "output_type": "stream",
     "text": [
      "('apple', 'banana', 'mango', 2, 3)\n",
      "5\n",
      "2\n",
      "('banana', 'mango')\n",
      "('apple', 'banana', 'mango')\n",
      "('apple', 'banana', 'mango', 2, 3)\n"
     ]
    }
   ],
   "source": [
    "#Accesing elements\n",
    "\n",
    "mytuple=(\"apple\",\"banana\",\"mango\",2,3)\n",
    "print(mytuple)\n",
    "print(len(mytuple))#specify length of tuple\n",
    "\n",
    "print(mytuple[3])#Accesing tuple element by index         "
   ]
  },
  {
   "cell_type": "code",
   "execution_count": 9,
   "metadata": {},
   "outputs": [
    {
     "name": "stdout",
     "output_type": "stream",
     "text": [
      "(34, True)\n",
      "('cat', 34, True)\n",
      "('cat', 34, True, 40, 'lion')\n"
     ]
    }
   ],
   "source": [
    "#slicing tuple\n",
    "tuple1=(\"cat\", 34, True, 40, \"lion\")\n",
    "\n",
    "print(tuple1[1:3])\n",
    "print(tuple1[:3])\n",
    "print(tuple1[0:])"
   ]
  },
  {
   "cell_type": "code",
   "execution_count": 10,
   "metadata": {},
   "outputs": [
    {
     "name": "stdout",
     "output_type": "stream",
     "text": [
      "('cat', 34, True, 40, 'lion', 'apple', 'banana', 'mango', 2, 3)\n"
     ]
    }
   ],
   "source": [
    "#concatenation of tuples\n",
    "tuple1=(\"cat\", 34, True, 40, \"lion\")\n",
    "tuple2=(\"apple\",\"banana\",\"mango\",2,3)\n",
    "\n",
    "tuple3 = tuple1 + tuple2 #concatenate twotuples by + operator\n",
    "print(tuple3)\n"
   ]
  },
  {
   "cell_type": "code",
   "execution_count": 14,
   "metadata": {},
   "outputs": [
    {
     "name": "stdout",
     "output_type": "stream",
     "text": [
      "(1, 2, 3, 'cat', 'mat', 1, 2, 3, 'cat', 'mat')\n"
     ]
    },
    {
     "data": {
      "text/plain": [
       "2"
      ]
     },
     "execution_count": 14,
     "metadata": {},
     "output_type": "execute_result"
    }
   ],
   "source": [
    "#Repetition using *\n",
    "\n",
    "mytup=(1,2,3,\"cat\",\"mat\")\n",
    "\n",
    "tuple3 = mytup*2\n",
    "print(tuple3)\n",
    "\n",
    "tuple3.index(3)#specifies index of element"
   ]
  },
  {
   "cell_type": "code",
   "execution_count": 13,
   "metadata": {},
   "outputs": [
    {
     "data": {
      "text/plain": [
       "7"
      ]
     },
     "execution_count": 13,
     "metadata": {},
     "output_type": "execute_result"
    }
   ],
   "source": [
    "#Some methods\n",
    "\n",
    "tuple3=(1,2,3,4,3,1,2,5)\n",
    "\n",
    "tuple3.count(2)"
   ]
  },
  {
   "cell_type": "code",
   "execution_count": null,
   "metadata": {},
   "outputs": [],
   "source": []
  }
 ],
 "metadata": {
  "kernelspec": {
   "display_name": "Python 3",
   "language": "python",
   "name": "python3"
  },
  "language_info": {
   "codemirror_mode": {
    "name": "ipython",
    "version": 3
   },
   "file_extension": ".py",
   "mimetype": "text/x-python",
   "name": "python",
   "nbconvert_exporter": "python",
   "pygments_lexer": "ipython3",
   "version": "3.7.4"
  }
 },
 "nbformat": 4,
 "nbformat_minor": 2
}
