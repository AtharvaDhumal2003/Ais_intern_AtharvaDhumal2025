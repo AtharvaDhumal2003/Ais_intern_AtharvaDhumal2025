{
 "cells": [
  {
   "cell_type": "markdown",
   "metadata": {},
   "source": [
    "# #If-else"
   ]
  },
  {
   "cell_type": "code",
   "execution_count": null,
   "metadata": {},
   "outputs": [],
   "source": [
    "If-else\n",
    "\n",
    "1) grade code\n",
    "p=50\n",
    "O: p>75\n",
    "A : 60 < p>75\n",
    "B: 50<p<60\n",
    "C: 35<p<50\n",
    "fail:p<35"
   ]
  },
  {
   "cell_type": "code",
   "execution_count": 2,
   "metadata": {},
   "outputs": [
    {
     "name": "stdout",
     "output_type": "stream",
     "text": [
      "enter your marks:45\n",
      "your grade is C\n"
     ]
    }
   ],
   "source": [
    "marks=float(input(\"enter your marks:\"))\n",
    "\n",
    "if(marks>=75):\n",
    "    print(\"your grade is O\")\n",
    "if(60<=marks<75):\n",
    "    print(\"your grade is A\")\n",
    "if(50<=marks<60):\n",
    "    print(\"your grade is B\")\n",
    "if(35<=marks<50):\n",
    "    print(\"your grade is C\")\n",
    "else:\n",
    "    print(\"Fail\")"
   ]
  },
  {
   "cell_type": "code",
   "execution_count": null,
   "metadata": {},
   "outputs": [],
   "source": [
    " n divisible by 2 or 3\n",
    "n=7\n",
    "2 divisble, 3 not\n",
    "divisible by 2,and 3\n",
    "divisible by 3, not 2\n",
    "not divisible by 2, and 3\n"
   ]
  },
  {
   "cell_type": "code",
   "execution_count": 4,
   "metadata": {},
   "outputs": [
    {
     "name": "stdout",
     "output_type": "stream",
     "text": [
      "N is not divisible by 2 and not divisible by 3\n"
     ]
    }
   ],
   "source": [
    "N = 7\n",
    "\n",
    "if (N%2==0 and N%0==1):\n",
    "    print(\"N is divisible by 2 and not divisible by 3\")\n",
    "elif(N%2==0 and N%3==0):\n",
    "    print(\"N is divisible by 2 and divisible by 3\")\n",
    "elif(N%2==1 and N%3==0):\n",
    "    print(\"N is not divisible by 2 and divisible by 3\")\n",
    "elif(N%2==1 and N%3==1):\n",
    "    print(\"N is not divisible by 2 and not divisible by 3\")\n"
   ]
  },
  {
   "cell_type": "markdown",
   "metadata": {},
   "source": [
    "# # Example if programs"
   ]
  },
  {
   "cell_type": "code",
   "execution_count": 5,
   "metadata": {},
   "outputs": [
    {
     "name": "stdout",
     "output_type": "stream",
     "text": [
      "a is greater than b\n"
     ]
    }
   ],
   "source": [
    "a=30\n",
    "b=20\n",
    "\n",
    "if a>b:\n",
    "    print(\"a is greater than b\")"
   ]
  },
  {
   "cell_type": "code",
   "execution_count": 11,
   "metadata": {},
   "outputs": [
    {
     "name": "stdout",
     "output_type": "stream",
     "text": [
      "a is not equal to b\n"
     ]
    }
   ],
   "source": [
    "a=\"ball\"\n",
    "b=\"cat\"\n",
    "if a==b:\n",
    "    print(\"a is equal to b\")\n",
    "if a!=b:\n",
    "    print(\"a is not equal to b\")"
   ]
  },
  {
   "cell_type": "code",
   "execution_count": 12,
   "metadata": {},
   "outputs": [
    {
     "name": "stdout",
     "output_type": "stream",
     "text": [
      "a and b are equal in lenghth\n"
     ]
    }
   ],
   "source": [
    "a=\"apple\"\n",
    "b=\"Adity\"\n",
    "\n",
    "if len(a) == len(b):\n",
    "    print(\"a and b are equal in lenghth\")"
   ]
  },
  {
   "cell_type": "markdown",
   "metadata": {},
   "source": [
    "# # Example if else program"
   ]
  },
  {
   "cell_type": "code",
   "execution_count": 21,
   "metadata": {},
   "outputs": [
    {
     "name": "stdout",
     "output_type": "stream",
     "text": [
      "a and b are equal\n"
     ]
    }
   ],
   "source": [
    "a=40*2\n",
    "b=8*10\n",
    "\n",
    "if(a == b):\n",
    "    print(\"a and b are equal\")\n",
    "else:\n",
    "    print(\"a and b are not equal\")"
   ]
  },
  {
   "cell_type": "code",
   "execution_count": 22,
   "metadata": {},
   "outputs": [
    {
     "name": "stdout",
     "output_type": "stream",
     "text": [
      "valid syntax\n"
     ]
    }
   ],
   "source": [
    "Name=\"atharva\"\n",
    "\n",
    "if (type(Name)==str):\n",
    "    print(\"valid syntax\")\n",
    "else:\n",
    "    print(\"invalid syntax\")"
   ]
  },
  {
   "cell_type": "markdown",
   "metadata": {},
   "source": [
    "# #Example of if elif else"
   ]
  },
  {
   "cell_type": "code",
   "execution_count": 31,
   "metadata": {},
   "outputs": [
    {
     "name": "stdout",
     "output_type": "stream",
     "text": [
      "Stop\n"
     ]
    }
   ],
   "source": [
    "light = \"Red\"\n",
    "\n",
    "if(light== \"Red\" ):\n",
    "    print(\"Stop\")\n",
    "elif(light == \"Green\"):\n",
    "    print(\"Go\")\n",
    "else:\n",
    "    print(\"wait\")"
   ]
  },
  {
   "cell_type": "code",
   "execution_count": 37,
   "metadata": {},
   "outputs": [
    {
     "name": "stdout",
     "output_type": "stream",
     "text": [
      "Enter your roll no:13\n",
      "parth\n"
     ]
    }
   ],
   "source": [
    "catalog={\n",
    "    12:\"atharva\",\n",
    "    13:\"parth\",\n",
    "    14:\"om\"\n",
    "}\n",
    "\n",
    "Roll_no =int(input(\"Enter your roll no:\"))\n",
    "\n",
    "if(Roll_no == 12):\n",
    "    print(catalog[12])\n",
    "elif(Roll_no == 13):\n",
    "    print(catalog[13])\n",
    "elif(Roll_no == 13):\n",
    "    print(catalog[14])\n",
    "else:\n",
    "    print(\"Enter valid Roll_no\")\n"
   ]
  },
  {
   "cell_type": "code",
   "execution_count": null,
   "metadata": {},
   "outputs": [],
   "source": []
  }
 ],
 "metadata": {
  "kernelspec": {
   "display_name": "Python 3",
   "language": "python",
   "name": "python3"
  },
  "language_info": {
   "codemirror_mode": {
    "name": "ipython",
    "version": 3
   },
   "file_extension": ".py",
   "mimetype": "text/x-python",
   "name": "python",
   "nbconvert_exporter": "python",
   "pygments_lexer": "ipython3",
   "version": "3.7.4"
  }
 },
 "nbformat": 4,
 "nbformat_minor": 2
}
