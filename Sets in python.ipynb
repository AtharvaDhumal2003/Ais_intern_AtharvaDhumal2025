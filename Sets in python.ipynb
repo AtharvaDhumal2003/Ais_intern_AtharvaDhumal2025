{
 "cells": [
  {
   "cell_type": "markdown",
   "metadata": {},
   "source": [
    "# #Sets in python\n",
    "\n",
    "*set is collection which is unordered.\n",
    "*set is unindexed\n",
    "*sets written in {} brackets,\n",
    "*set can be created using set() method.\n",
    "*set elements are unchangeble but we can add and remove element from set.\n"
   ]
  },
  {
   "cell_type": "code",
   "execution_count": 3,
   "metadata": {},
   "outputs": [
    {
     "name": "stdout",
     "output_type": "stream",
     "text": [
      "{3.14, 'cash', 'novel', 'apple', 'book'}\n",
      "{3.14, 'cash', 'novel', 'apple', 'lion', 'book'}\n",
      "{'cash', 'novel', 'apple', 'lion', 'book'}\n"
     ]
    }
   ],
   "source": [
    "#set operations\n",
    "thisset={\"book\",\"novel\",\"cash\",\"apple\",3.14}\n",
    "\n",
    "print(thisset)\n",
    "\n",
    "thisset.add(\"lion\")#adding element in set\n",
    "print(thisset)\n",
    "\n",
    "thisset.remove(3.14)#removing element in set \n",
    "print(thisset)\n"
   ]
  },
  {
   "cell_type": "code",
   "execution_count": 7,
   "metadata": {},
   "outputs": [
    {
     "name": "stdout",
     "output_type": "stream",
     "text": [
      "{False, True, 2, 3, 4, 7, 8, 9, 'note', 'pip'}\n",
      "{8, 3, 4}\n",
      "{True, 2, 'pip'}\n"
     ]
    }
   ],
   "source": [
    "#set operation\n",
    "\n",
    "x={4,2,3,\"pip\",True,8}\n",
    "y={7,8,9,3,4,\"note\",False}\n",
    "\n",
    "z=x.union(y)#union of sets\n",
    "print(z)\n",
    "\n",
    "q=x.intersection(y)#intersection of sets\n",
    "print(q)\n",
    "\n",
    "S=x.difference(y)#difference in sets\n",
    "print(S)\n",
    "\n"
   ]
  },
  {
   "cell_type": "code",
   "execution_count": null,
   "metadata": {},
   "outputs": [],
   "source": []
  }
 ],
 "metadata": {
  "kernelspec": {
   "display_name": "Python 3",
   "language": "python",
   "name": "python3"
  },
  "language_info": {
   "codemirror_mode": {
    "name": "ipython",
    "version": 3
   },
   "file_extension": ".py",
   "mimetype": "text/x-python",
   "name": "python",
   "nbconvert_exporter": "python",
   "pygments_lexer": "ipython3",
   "version": "3.7.4"
  }
 },
 "nbformat": 4,
 "nbformat_minor": 2
}
