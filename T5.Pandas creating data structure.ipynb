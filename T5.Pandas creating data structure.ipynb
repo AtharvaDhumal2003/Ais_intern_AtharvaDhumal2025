{
 "cells": [
  {
   "cell_type": "markdown",
   "metadata": {},
   "source": [
    "# creating datastructures "
   ]
  },
  {
   "cell_type": "markdown",
   "metadata": {},
   "source": [
    "# #Series"
   ]
  },
  {
   "cell_type": "code",
   "execution_count": 4,
   "metadata": {},
   "outputs": [
    {
     "name": "stdout",
     "output_type": "stream",
     "text": [
      "Book1    ABC\n",
      "Book2    XYZ\n",
      "Book3     as\n",
      "dtype: object\n"
     ]
    }
   ],
   "source": [
    "#Pandas Series is a one-dimensional labeled array \n",
    "#capable of holding data of any type (integer, string, float, python objects, etc.).\n",
    "\n",
    "import pandas as pd\n",
    "\n",
    "my_dict={\n",
    "    \"Book1\":\"ABC\",\n",
    "    \"Book2\":\"XYZ\",\n",
    "    \"Book3\":123\n",
    "}\n",
    "\n",
    "series=pd.Series(my_dict)\n",
    "print(series)"
   ]
  },
  {
   "cell_type": "code",
   "execution_count": 5,
   "metadata": {},
   "outputs": [
    {
     "name": "stdout",
     "output_type": "stream",
     "text": [
      "0    1\n",
      "1    2\n",
      "2    3\n",
      "3    4\n",
      "dtype: int32\n"
     ]
    }
   ],
   "source": [
    "import pandas as pd \n",
    "import numpy as np\n",
    "\n",
    "\n",
    "arr=np.array([1,2,3,4])\n",
    "\n",
    "series=pd.Series(arr)\n",
    "print(series)"
   ]
  },
  {
   "cell_type": "markdown",
   "metadata": {},
   "source": [
    "# #Dataframe"
   ]
  },
  {
   "cell_type": "code",
   "execution_count": 7,
   "metadata": {},
   "outputs": [
    {
     "name": "stdout",
     "output_type": "stream",
     "text": [
      "      Name  Roll    Id\n",
      "0  Atharva    11  AB12\n",
      "1   Aditya    12  AB45\n",
      "2    sahil    13  AB32\n",
      "3   lokesh    14  AB78\n"
     ]
    }
   ],
   "source": [
    "import pandas as pd\n",
    "\n",
    "info={\n",
    "    \"Name\":['Atharva','Aditya','sahil','lokesh'],\n",
    "    \"Roll\":[11,12,13,14],\n",
    "    \"Id\":('AB12','AB45','AB32','AB78')\n",
    "}\n",
    "\n",
    "DF=pd.DataFrame(info)\n",
    "print(DF)"
   ]
  },
  {
   "cell_type": "code",
   "execution_count": null,
   "metadata": {},
   "outputs": [],
   "source": []
  }
 ],
 "metadata": {
  "kernelspec": {
   "display_name": "Python 3",
   "language": "python",
   "name": "python3"
  },
  "language_info": {
   "codemirror_mode": {
    "name": "ipython",
    "version": 3
   },
   "file_extension": ".py",
   "mimetype": "text/x-python",
   "name": "python",
   "nbconvert_exporter": "python",
   "pygments_lexer": "ipython3",
   "version": "3.7.4"
  }
 },
 "nbformat": 4,
 "nbformat_minor": 2
}
