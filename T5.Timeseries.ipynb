{
 "cells": [
  {
   "cell_type": "markdown",
   "metadata": {},
   "source": [
    "# Time series "
   ]
  },
  {
   "cell_type": "markdown",
   "metadata": {},
   "source": [
    "## to_datetime"
   ]
  },
  {
   "cell_type": "code",
   "execution_count": 2,
   "metadata": {},
   "outputs": [
    {
     "name": "stdout",
     "output_type": "stream",
     "text": [
      "2025-01-30 14:30:00\n"
     ]
    }
   ],
   "source": [
    "import pandas as pd\n",
    " \n",
    "d_string = \"2025-01-30 14:30:00\"\n",
    " \n",
    "\n",
    "dt_obj = pd.to_datetime(d_string)\n",
    " \n",
    "print(dt_obj)"
   ]
  },
  {
   "cell_type": "markdown",
   "metadata": {},
   "source": [
    "## resample()"
   ]
  },
  {
   "cell_type": "code",
   "execution_count": 3,
   "metadata": {},
   "outputs": [
    {
     "data": {
      "text/plain": [
       "date\n",
       "2017-11-19    171.7460\n",
       "2017-11-26    172.3825\n",
       "2017-12-03    172.4720\n",
       "2017-12-10    169.7120\n",
       "2017-12-17    171.9760\n",
       "                ...   \n",
       "2025-01-05         NaN\n",
       "2025-01-12         NaN\n",
       "2025-01-19         NaN\n",
       "2025-01-26         NaN\n",
       "2025-02-02    191.7200\n",
       "Freq: W-SUN, Name: open, Length: 377, dtype: float64"
      ]
     },
     "execution_count": 3,
     "metadata": {},
     "output_type": "execute_result"
    }
   ],
   "source": [
    "import pandas as pd \n",
    "\n",
    "df = pd.read_csv(\"C:\\\\Users\\\\DELL\\\\Desktop\\\\CSV\\\\apple.csv\", parse_dates =[\"date\"], index_col =\"date\") \n",
    "\n",
    "weekly_resampled_data = df.open.resample('W').mean() \n",
    "\n",
    "weekly_resampled_data"
   ]
  },
  {
   "cell_type": "code",
   "execution_count": null,
   "metadata": {},
   "outputs": [],
   "source": []
  }
 ],
 "metadata": {
  "kernelspec": {
   "display_name": "Python 3",
   "language": "python",
   "name": "python3"
  },
  "language_info": {
   "codemirror_mode": {
    "name": "ipython",
    "version": 3
   },
   "file_extension": ".py",
   "mimetype": "text/x-python",
   "name": "python",
   "nbconvert_exporter": "python",
   "pygments_lexer": "ipython3",
   "version": "3.7.4"
  }
 },
 "nbformat": 4,
 "nbformat_minor": 2
}
