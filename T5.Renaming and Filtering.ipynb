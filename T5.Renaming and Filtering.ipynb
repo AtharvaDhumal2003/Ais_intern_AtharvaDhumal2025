{
 "cells": [
  {
   "cell_type": "markdown",
   "metadata": {},
   "source": [
    "# Ranaming and Filtering "
   ]
  },
  {
   "cell_type": "markdown",
   "metadata": {},
   "source": [
    "## Renaming"
   ]
  },
  {
   "cell_type": "code",
   "execution_count": 16,
   "metadata": {},
   "outputs": [
    {
     "name": "stdout",
     "output_type": "stream",
     "text": [
      "  Name  Roll\n",
      "0  Ath    12\n",
      "1  Adi    13\n",
      "2  Nis    14\n"
     ]
    }
   ],
   "source": [
    "#The rename() method allows you to change the row indexes, and the columns labels.\n",
    "\n",
    "import pandas as pd\n",
    "\n",
    "Dict={\n",
    "    'Name':['Ath','Adi','Nis'],\n",
    "    'Age':[12,13,14]\n",
    "}\n",
    "\n",
    "df=pd.DataFrame(Dict)\n",
    "df.rename(columns={'Age':'Roll'},inplace=True)\n",
    "print(df)"
   ]
  },
  {
   "cell_type": "markdown",
   "metadata": {},
   "source": [
    "## Filtering "
   ]
  },
  {
   "cell_type": "code",
   "execution_count": 19,
   "metadata": {},
   "outputs": [
    {
     "name": "stdout",
     "output_type": "stream",
     "text": [
      "    Integer  Odd  Even\n",
      "0        24   24    45\n",
      "1        33   44    33\n",
      "3        43   12    43\n",
      "4        44   20    83\n",
      "5        53   64    73\n",
      "9        73   18    25\n",
      "10       74   28    33\n"
     ]
    }
   ],
   "source": [
    "import pandas as pd\n",
    "\n",
    "data = {\n",
    "    \"Integer\":[24,33,34,43,44,53,54,63,64,73,74],\n",
    "    \"Odd\" :[24,44,74,12,20,64,54,84,22,18,28],\n",
    "    \"Even\":[45,33,23,43,83,73,13,17,15,25,33]\n",
    "}\n",
    "\n",
    "df=pd.DataFrame(data)\n",
    "\n",
    "df_filter=df[df['Even']>24]\n",
    "print(df_filter)"
   ]
  }
 ],
 "metadata": {
  "kernelspec": {
   "display_name": "Python 3",
   "language": "python",
   "name": "python3"
  },
  "language_info": {
   "codemirror_mode": {
    "name": "ipython",
    "version": 3
   },
   "file_extension": ".py",
   "mimetype": "text/x-python",
   "name": "python",
   "nbconvert_exporter": "python",
   "pygments_lexer": "ipython3",
   "version": "3.7.4"
  }
 },
 "nbformat": 4,
 "nbformat_minor": 2
}
