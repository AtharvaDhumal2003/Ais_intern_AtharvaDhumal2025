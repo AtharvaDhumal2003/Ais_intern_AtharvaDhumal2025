{
 "cells": [
  {
   "cell_type": "markdown",
   "metadata": {},
   "source": [
    "# #List in python\n",
    "* we can store different data type elements in list.\n",
    "* lists can be chaged or updated(mutable).\n",
    "* created in [] brackets.\n",
    "* set of values."
   ]
  },
  {
   "cell_type": "code",
   "execution_count": 1,
   "metadata": {},
   "outputs": [
    {
     "name": "stdout",
     "output_type": "stream",
     "text": [
      "['cat', 'dog', 'om', 1, 2.34, 'sahil', 'lion', 'elephant']\n",
      "dog\n",
      "lion\n",
      "['dog', 'om', 1]\n",
      "['cat', 'dog', 'om', 1]\n",
      "['cat', 'dog', 'om', 1, 2.34, 'sahil', 'lion', 'elephant']\n",
      "[2.34, 'sahil', 'lion']\n"
     ]
    }
   ],
   "source": [
    "list1 =[\"cat\",\"dog\",\"om\",1,2.34,\"sahil\",\"lion\",\"elephant\"] #\n",
    "\n",
    "print(list1)#accessing list\n",
    "print(list1[1])#accessing particular element\n",
    "print(list1[-2])#accessing particular element\n",
    "print(list1[1:4])#list slicing[start index:ending index]\n",
    "print(list1[:4])\n",
    "print(list1[0:])\n",
    "print(list1[-4:-1])\n",
    "\n",
    "\n"
   ]
  },
  {
   "cell_type": "code",
   "execution_count": 6,
   "metadata": {},
   "outputs": [
    {
     "name": "stdout",
     "output_type": "stream",
     "text": [
      "['Ath', 'Adi', 'Sahil', 'omkar', 2, 'parth', 'nishad']\n",
      "['Ath', 'Adi', 'Sahil', 'lokesh', 'omkar', 2, 'parth', 'nishad']\n"
     ]
    }
   ],
   "source": [
    "#modifying elements\n",
    "list2=[\"Ath\",\"Adi\",\"Sahil\",\"omkar\",2,\"parth\"]\n",
    "\n",
    "list2.append(\"nishad\")#adding element by append method\n",
    "print(list2)\n",
    "\n",
    "list2.insert(3,\"lokesh\")#adding element by insert method(index,element)\n",
    "print(list2)\n"
   ]
  },
  {
   "cell_type": "code",
   "execution_count": 15,
   "metadata": {},
   "outputs": [
    {
     "name": "stdout",
     "output_type": "stream",
     "text": [
      "['python', 'java', 'c', 'c++', 20, 'C#']\n",
      "['python', 'java', 'c', 'c++', 'C#']\n",
      "[]\n",
      "[2, 3, 5]\n"
     ]
    }
   ],
   "source": [
    "#Removing elements\n",
    "list3=[\"python\",\"java\",\"c\",\"c++\",3.14,20,\"C#\"]\n",
    "\n",
    "list3.remove(3.14)#The remove() method removes the specified item.\n",
    "print(list3)\n",
    "\n",
    "list3.pop(4)#The pop() method removes the specified index.\n",
    "print(list3)\n",
    "\n",
    "list3.clear()#The clear() method empties the list.\n",
    "print(list3)\n",
    "\n",
    "list4=[2,3,4,5]\n",
    "\n",
    "del list4[2]#The del keyword removes the specified index.\n",
    "print(list4)\n",
    "\n",
    "del list4#delets entire list\n",
    "\n",
    "\n"
   ]
  },
  {
   "cell_type": "code",
   "execution_count": 32,
   "metadata": {},
   "outputs": [
    {
     "name": "stdout",
     "output_type": "stream",
     "text": [
      "[1, 2, 3, 4, 5, 6]\n",
      "[6, 5, 4, 3, 2, 1]\n",
      "[1, 2, 3, 4, 5, 6]\n"
     ]
    }
   ],
   "source": [
    "#sorting list\n",
    "\n",
    "list5=[1,5,6,4,3,2]\n",
    "\n",
    "list5.sort()#sorts list in ascending order\n",
    "print(list5)\n",
    "\n",
    "list5.sort(reverse= True)#sort list in decending order\n",
    "print(list5)\n",
    "\n",
    "list5.reverse()#reverse the entire list\n",
    "print(list5)\n"
   ]
  },
  {
   "cell_type": "code",
   "execution_count": 42,
   "metadata": {},
   "outputs": [
    {
     "name": "stdout",
     "output_type": "stream",
     "text": [
      "['python', 'java', 'c', 'c++', 'Ruby', 'c', 'css', 'c', 'p', 'y', 't', 'h', 'o', 'n']\n",
      "['python', 'java', 'c', 'c++', 'Ruby', 'c', 'css', 'c', 'p', 'y', 't', 'h', 'o', 'n']\n"
     ]
    },
    {
     "data": {
      "text/plain": [
       "3"
      ]
     },
     "execution_count": 42,
     "metadata": {},
     "output_type": "execute_result"
    }
   ],
   "source": [
    "#other methods in list\n",
    "\n",
    "list6=[\"python\",\"java\",\"c\",\"c++\",\"Ruby\",\"c\",\"css\",\"c\"]\n",
    "\n",
    "list6.extend(\"python\")\n",
    "print(list6)\n",
    "\n",
    "mylist = list6.copy()\n",
    "print(mylist)\n",
    "\n",
    "list6.index(\"c++\")\n",
    "\n",
    "list6.count(\"c\")"
   ]
  },
  {
   "cell_type": "code",
   "execution_count": null,
   "metadata": {},
   "outputs": [],
   "source": []
  }
 ],
 "metadata": {
  "kernelspec": {
   "display_name": "Python 3",
   "language": "python",
   "name": "python3"
  },
  "language_info": {
   "codemirror_mode": {
    "name": "ipython",
    "version": 3
   },
   "file_extension": ".py",
   "mimetype": "text/x-python",
   "name": "python",
   "nbconvert_exporter": "python",
   "pygments_lexer": "ipython3",
   "version": "3.7.4"
  }
 },
 "nbformat": 4,
 "nbformat_minor": 2
}
