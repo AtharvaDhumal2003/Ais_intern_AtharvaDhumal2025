{
 "cells": [
  {
   "cell_type": "markdown",
   "metadata": {},
   "source": [
    "Numbers in python\n"
   ]
  },
  {
   "cell_type": "code",
   "execution_count": 8,
   "metadata": {},
   "outputs": [
    {
     "name": "stdout",
     "output_type": "stream",
     "text": [
      "Addition is: 10\n",
      "Substraction: 6\n",
      "multiplication: 16\n",
      "Division: 4.0\n"
     ]
    }
   ],
   "source": [
    "a=8\n",
    "b=2\n",
    "\n",
    "print(\"Addition is:\",a+b)\n",
    "print(\"Substraction:\",a-b)\n",
    "print(\"multiplication:\",a*b)\n",
    "print(\"Division:\",a/b)\n"
   ]
  },
  {
   "cell_type": "code",
   "execution_count": 9,
   "metadata": {},
   "outputs": [
    {
     "name": "stdout",
     "output_type": "stream",
     "text": [
      "Addition is: 11.25\n",
      "substraction is: 6.25\n",
      "multiplication is: 21.875\n",
      "division is: 3.5\n"
     ]
    }
   ],
   "source": [
    "a=8.75\n",
    "b=2.50\n",
    "\n",
    "print(\"Addition is:\",a+b)\n",
    "print(\"substraction is:\",a-b)\n",
    "print(\"multiplication is:\",a*b)\n",
    "print(\"division is:\",a/b)\n"
   ]
  },
  {
   "cell_type": "code",
   "execution_count": 10,
   "metadata": {},
   "outputs": [
    {
     "name": "stdout",
     "output_type": "stream",
     "text": [
      "adidition is: (32+53j)\n",
      "substraction is: (32-53j)\n",
      "multiplication is: 1696j\n",
      "division is: -0.6037735849056604j\n"
     ]
    }
   ],
   "source": [
    "a=32\n",
    "b=53j\n",
    "\n",
    "\n",
    "print(\"adidition is:\",a+b)\n",
    "print(\"substraction is:\",a-b)\n",
    "print(\"multiplication is:\",a*b)\n",
    "print(\"division is:\",a/b)"
   ]
  },
  {
   "cell_type": "code",
   "execution_count": null,
   "metadata": {},
   "outputs": [],
   "source": []
  }
 ],
 "metadata": {
  "kernelspec": {
   "display_name": "Python 3",
   "language": "python",
   "name": "python3"
  },
  "language_info": {
   "codemirror_mode": {
    "name": "ipython",
    "version": 3
   },
   "file_extension": ".py",
   "mimetype": "text/x-python",
   "name": "python",
   "nbconvert_exporter": "python",
   "pygments_lexer": "ipython3",
   "version": "3.7.4"
  }
 },
 "nbformat": 4,
 "nbformat_minor": 2
}
